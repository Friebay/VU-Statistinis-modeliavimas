{
 "cells": [
  {
   "cell_type": "markdown",
   "id": "847bc80b",
   "metadata": {},
   "source": [
    "MK užduotis 1-5\n",
    "1. Sugeneruokite pseudoatsitiktinių skaičių sekas tiesiniu kongruentiniu metodu su maksimaliu periodu, kai modulis $m=776$ ir $m=1107$. Daugiklius $a$ parinkite taip, kad galingumai būtų didžiausi. Prieauglio $c$ parinkimui naudokitės gretimų narių koreliacija (teoriniai testai).\n",
    "\n",
    "Tiesinio kongruentinio metodo formulė:\n",
    "$X_{n+1} \\equiv (aX_n + c) \\pmod m, n \\geq 0$.\n",
    "\n",
    "Čia skaičiai:\n",
    "$X_0$ - pradinė reikšmė, $X_0 \\geq 0$,\n",
    "$a$ - daugiklis, $a \\geq 0$,\n",
    "$c$ - prieauglis, $c \\geq 0$,\n",
    "$m$ - modulis, $m > X_0, m > a, m > c$, yra perenkami.\n",
    "\n",
    "Gretimų narių koeficientas apibrežiamas taip:\n",
    "$$\n",
    "C := \\frac{n \\sum_{i=0}^{n-1} (U_i V_i) - \\left(\\sum_{i=0}^{n-1} U_i\\right) \\left(\\sum_{i=0}^{n-1} V_i\\right)}{\\sqrt{\\left(n \\sum_{i=0}^{n-1} U_i^2 - \\left(\\sum_{i=0}^{n-1} U_i\\right)^2\\right) \\left(n \\sum_{i=0}^{n-1} V_i^2 - \\left(\\sum_{i=0}^{n-1} V_i\\right)^2\\right)}}\n",
    "$$\n",
    "\n",
    "Tiesinės kongruentinės sekos $(X_0, a, c, m)$ su maksimaliu periodu gretimų narių koreliacijos koeficientas\n",
    "\n",
    "$$C \\approx \\frac{1}{a} \\left(1 - 6 \\frac{c}{m} + 6 \\left(\\frac{c}{m}\\right)^2\\right).$$\n",
    "Šios apytikslės formulės klaida yra nedidesnė už $(a+6)/m$.\n",
    "\n",
    "Kad tiesinis kongruentinis generatorius turėtų maksimalų periodą lygų $m$, turi būti tenkinamos šios sąlygos:\n",
    "\n",
    "Skaičiai $c$ ir $m$ turi būti tarpusavyje pirminiai (jų DBD = 1).\n",
    "Jei $p$ yra bet kuris pirminis skaičius, kuris dalijasi iš $m$, tada $(a-1)$ turi dalintis iš $p$.\n",
    "Jei $m$ yra dalus iš 4, tada $(a-1)$ taip pat turi būti dalus iš 4.\n",
    "\n",
    "Modulis $776 = 8 \\times 97 = 2^3 \\times 97$\n",
    "\n",
    "Modulis $1107 = 3 \\times 369 = 3^3 \\times 41$\n"
   ]
  },
  {
   "cell_type": "code",
   "execution_count": 73,
   "id": "6bdf2f45",
   "metadata": {},
   "outputs": [
    {
     "name": "stdout",
     "output_type": "stream",
     "text": [
      "Modulio 776 = 776 pirminiai daugikliai: {2: 3, 97: 1}\n",
      "Modulio 1107 = 1107 pirminiai daugikliai: {3: 3, 41: 1}\n"
     ]
    }
   ],
   "source": [
    "def prime_factorization(n):\n",
    "    # Skaičiaus n pirminių daugiklių radimas\n",
    "    factors = {}\n",
    "    d = 2\n",
    "    while d*d <= n:\n",
    "        while n % d == 0:\n",
    "            if d in factors:\n",
    "                factors[d] += 1\n",
    "            else:\n",
    "                factors[d] = 1\n",
    "            n //= d\n",
    "        d += 1\n",
    "    if n > 1:\n",
    "        if n in factors:\n",
    "            factors[n] += 1\n",
    "        else:\n",
    "            factors[n] = 1\n",
    "    return factors\n",
    "\n",
    "print(f\"Modulio 776 = {776} pirminiai daugikliai: {prime_factorization(776)}\")\n",
    "print(f\"Modulio 1107 = {1107} pirminiai daugikliai: {prime_factorization(1107)}\")"
   ]
  },
  {
   "cell_type": "code",
   "execution_count": 74,
   "id": "97be20ea",
   "metadata": {},
   "outputs": [],
   "source": [
    "import math\n",
    "from math import gcd\n",
    "import numpy as np\n",
    "import scipy.stats as stats\n",
    "\n",
    "def find_power(a, m):\n",
    "    \"\"\"Rasti sekos galią (mažiausią s, kur (a-1)^s ≡ 0 mod m).\"\"\"\n",
    "    b = a - 1\n",
    "    s = 1\n",
    "    result = b % m\n",
    "    \n",
    "    # Maksimalus iteracijų skaičius, kad būtų išvengta begalinio ciklo\n",
    "    max_iterations = m\n",
    "    iterations = 0\n",
    "    \n",
    "    while result != 0 and iterations < max_iterations:\n",
    "        result = (result * b) % m\n",
    "        s += 1\n",
    "        iterations += 1\n",
    "    \n",
    "    # Jei neradome galios, kuri tenkina b^s ≡ 0 (mod m)\n",
    "    if result != 0:\n",
    "        return 0\n",
    "    \n",
    "    return s\n",
    "\n"
   ]
  },
  {
   "cell_type": "code",
   "execution_count": 75,
   "id": "49b7e02a",
   "metadata": {},
   "outputs": [
    {
     "name": "stdout",
     "output_type": "stream",
     "text": [
      "\n",
      "Daugiklis a    b=a-1          Galingumas s   \n",
      "389            388            2              \n",
      "\n",
      "Daugiklis a    b=a-1          Galingumas s   \n",
      "124            123            3              \n",
      "247            246            3              \n",
      "493            492            3              \n"
     ]
    }
   ],
   "source": [
    "m_776=776\n",
    "\n",
    "valid_a_values_776 = []\n",
    "\n",
    "for a in range(2, m_776):\n",
    "        # Tikrinti tik reikšmes, kur gcd(a,m) = 1\n",
    "        if gcd(a, m_776) == 1:\n",
    "            b = a - 1            # Patikrinti, ar b tenkina mūsų sąlygas\n",
    "            # Kai m = 776 = 2^3 * 97:\n",
    "            # b turėtų dalintis iš 2 ir 97 ir 4 (nes 776 % 4 = 0)\n",
    "            if b % 2 == 0 and b % 97 == 0 and b % 4 == 0:\n",
    "                power = find_power(a, m_776)\n",
    "                valid_a_values_776.append((a, b, power))\n",
    "# Rūšiuoti pagal galią (didesnė yra geresnė)\n",
    "valid_a_values_776.sort(key=lambda x: x[2], reverse=True)\n",
    "\n",
    "# Spausdinti rezultatus\n",
    "print(f\"\\n{'Daugiklis a':<15}{'b=a-1':<15}{'Galingumas s':<15}\")\n",
    "\n",
    "for a, b, power in valid_a_values_776[:3]:  # Rodyti 3 geriausius rezultatus\n",
    "    print(f\"{a:<15}{b:<15}{power:<15}\")\n",
    "\n",
    "m_1107=1107\n",
    "\n",
    "valid_a_values_1107 = []\n",
    "\n",
    "for a in range(2, m_1107):\n",
    "        # Tikrinti tik reikšmes, kur gcd(a,m) = 1\n",
    "        if gcd(a, m_1107) == 1:\n",
    "            b = a - 1\n",
    "            # Patikrinti, ar b tenkina mūsų sąlygas\n",
    "            # Kai m = 1107 = 3^3 * 41:\n",
    "            # b turėtų dalintis iš 3 ir 41\n",
    "            if b % 3 == 0 and b % 41 == 0:\n",
    "                power = find_power(a, m_1107)\n",
    "                valid_a_values_1107.append((a, b, power))\n",
    "# Rūšiuoti pagal galią (didesnė yra geresnė)\n",
    "valid_a_values_1107.sort(key=lambda x: x[2], reverse=True)\n",
    "\n",
    "# Spausdinti rezultatus\n",
    "print(f\"\\n{'Daugiklis a':<15}{'b=a-1':<15}{'Galingumas s':<15}\")\n",
    "\n",
    "for a, b, power in valid_a_values_1107[:3]:  # Rodyti 3 geriausius rezultatus\n",
    "    print(f\"{a:<15}{b:<15}{power:<15}\")"
   ]
  },
  {
   "cell_type": "code",
   "execution_count": 76,
   "id": "49e98565",
   "metadata": {},
   "outputs": [
    {
     "name": "stdout",
     "output_type": "stream",
     "text": [
      "\n",
      "Geriausias rezultatas:\n",
      "Daugiklis a = 389\n",
      "b = a - 1 = 388\n",
      "Galingumas s = 2\n",
      "\n",
      "Geriausias rezultatas:\n",
      "Daugiklis a = 124\n",
      "b = a - 1 = 123\n",
      "Galingumas s = 3\n"
     ]
    }
   ],
   "source": [
    "# Geriausias rezultatas\n",
    "best_a_776, best_b_776, best_power_776 = valid_a_values_776[0]\n",
    "print(\"\\nGeriausias rezultatas:\")\n",
    "print(f\"Daugiklis a = {best_a_776}\")\n",
    "print(f\"b = a - 1 = {best_b_776}\")\n",
    "print(f\"Galingumas s = {best_power_776}\")\n",
    "\n",
    "best_a_1107, best_b_1107, best_power_1107 = valid_a_values_1107[0]\n",
    "print(\"\\nGeriausias rezultatas:\")\n",
    "print(f\"Daugiklis a = {best_a_1107}\")\n",
    "print(f\"b = a - 1 = {best_b_1107}\")\n",
    "print(f\"Galingumas s = {best_power_1107}\")"
   ]
  },
  {
   "cell_type": "code",
   "execution_count": 77,
   "id": "f2b62012",
   "metadata": {},
   "outputs": [],
   "source": [
    "def find_valid_c(m):\n",
    "    valid_c_values = []\n",
    "    \n",
    "    for c in range(1, m):\n",
    "        if gcd(c, m) == 1:\n",
    "            # Jei m dalijasi iš 4, c turi būti nelyginis\n",
    "            if m % 4 == 0 and c % 2 == 0:\n",
    "                continue\n",
    "            valid_c_values.append(c)\n",
    "    \n",
    "    return valid_c_values\n"
   ]
  },
  {
   "cell_type": "code",
   "execution_count": 78,
   "id": "e7612795",
   "metadata": {},
   "outputs": [
    {
     "name": "stdout",
     "output_type": "stream",
     "text": [
      "b^s mod m = 388^2 mod 776 = 0\n",
      "b^s mod m = 123^3 mod 1107 = 0\n"
     ]
    }
   ],
   "source": [
    "print(f\"b^s mod m = {best_b_776}^{best_power_776} mod {m_776} = {pow(best_b_776, best_power_776, m_776)}\")\n",
    "# Rasti tinkamas c reikšmes\n",
    "valid_c_values = find_valid_c(m_776)\n",
    "\n",
    "\n",
    "print(f\"b^s mod m = {best_b_1107}^{best_power_1107} mod {m_1107} = {pow(best_b_1107, best_power_1107, m_1107)}\")\n",
    "# Rasti tinkamas c reikšmes\n",
    "valid_c_values = find_valid_c(m_1107)\n"
   ]
  },
  {
   "cell_type": "code",
   "execution_count": 79,
   "id": "6a0c5a0d",
   "metadata": {},
   "outputs": [],
   "source": [
    "\n",
    "def calculate_theoretical_correlation(a, c, m):\n",
    "    \"\"\"\n",
    "    C ≈ (1/a) * (1 - 6(c/m) + 6(c/m)²)\n",
    "    \n",
    "    Paklaidos formulė (a+6)/m\n",
    "    \"\"\"\n",
    "    c_m_ratio = c / m\n",
    "    correlation = (1/a) * (1 - 6 * c_m_ratio + 6 * (c_m_ratio ** 2))\n",
    "    error_bound = (a + 6) / m\n",
    "    \n",
    "    return abs(correlation), error_bound\n",
    "\n",
    "def test_c_correlation(a, m, valid_c_values, num_tests):\n",
    "    \"\"\"Calculate theoretical correlation for different c values.\"\"\"\n",
    "    c_theoretical_correlations = []\n",
    "    \n",
    "    for c in valid_c_values[:num_tests]:\n",
    "        # Only theoretical correlation\n",
    "        theoretical_correlation, error_bound = calculate_theoretical_correlation(a, c, m)\n",
    "        c_theoretical_correlations.append((c, theoretical_correlation, error_bound))\n",
    "    \n",
    "    # Sort by theoretical correlation (lower is better)\n",
    "    c_theoretical_correlations.sort(key=lambda x: x[1])\n",
    "    \n",
    "    return c_theoretical_correlations"
   ]
  },
  {
   "cell_type": "code",
   "execution_count": 80,
   "id": "0462a34b",
   "metadata": {},
   "outputs": [],
   "source": [
    "theoretical_correlations_776 = test_c_correlation(best_a_776, m_776, valid_c_values, num_tests=1000)\n",
    "\n",
    "theoretical_correlations_1107 = test_c_correlation(best_a_1107, m_1107, valid_c_values, num_tests=1000)"
   ]
  }
 ],
 "metadata": {
  "kernelspec": {
   "display_name": "Python 3",
   "language": "python",
   "name": "python3"
  },
  "language_info": {
   "codemirror_mode": {
    "name": "ipython",
    "version": 3
   },
   "file_extension": ".py",
   "mimetype": "text/x-python",
   "name": "python",
   "nbconvert_exporter": "python",
   "pygments_lexer": "ipython3",
   "version": "3.11.5"
  }
 },
 "nbformat": 4,
 "nbformat_minor": 5
}
