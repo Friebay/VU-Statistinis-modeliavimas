{
 "cells": [
  {
   "cell_type": "markdown",
   "id": "847bc80b",
   "metadata": {},
   "source": [
    "MK užduotis 1-5\n",
    "1. Sugeneruokite pseudoatsitiktinių skaičių sekas tiesiniu kongruentiniu metodu su maksimaliu periodu, kai modulis $m=776$ ir $m=1107$. Daugiklius $a$ parinkite taip, kad galingumai būtų didžiausi. Prieauglio $c$ parinkimui naudokitės gretimų narių koreliacija (teoriniai testai).\n",
    "\n",
    "Tiesinio kongruentinio metodo formulė:\n",
    "$X_{n+1} \\equiv (aX_n + c) \\pmod m, n \\geq 0$.\n",
    "\n",
    "Čia skaičiai:\n",
    "$X_0$ - pradinė reikšmė, $X_0 \\geq 0$,\n",
    "$a$ - daugiklis, $a \\geq 0$,\n",
    "$c$ - prieauglis, $c \\geq 0$,\n",
    "$m$ - modulis, $m > X_0, m > a, m > c$, yra perenkami.\n",
    "\n",
    "Gretimų narių koeficientas apibrežiamas taip:\n",
    "$$\n",
    "C := \\frac{n \\sum_{i=0}^{n-1} (U_i V_i) - \\left(\\sum_{i=0}^{n-1} U_i\\right) \\left(\\sum_{i=0}^{n-1} V_i\\right)}{\\sqrt{\\left(n \\sum_{i=0}^{n-1} U_i^2 - \\left(\\sum_{i=0}^{n-1} U_i\\right)^2\\right) \\left(n \\sum_{i=0}^{n-1} V_i^2 - \\left(\\sum_{i=0}^{n-1} V_i\\right)^2\\right)}}\n",
    "$$\n",
    "\n",
    "Tiesinės kongruentinės sekos $(X_0, a, c, m)$ su maksimaliu periodu gretimų narių koreliacijos koeficientas\n",
    "\n",
    "$$C \\approx \\frac{1}{a} \\left(1 - 6 \\frac{c}{m} + 6 \\left(\\frac{c}{m}\\right)^2\\right).$$\n",
    "Šios apytikslės formulės klaida yra nedidesnė už $(a+6)/m$.\n",
    "\n",
    "Kad tiesinis kongruentinis generatorius turėtų maksimalų periodą lygų $m$, turi būti tenkinamos šios sąlygos:\n",
    "\n",
    "Skaičiai $c$ ir $m$ turi būti tarpusavyje pirminiai (jų DBD = 1).\n",
    "Jei $p$ yra bet kuris pirminis skaičius, kuris dalijasi iš $m$, tada $(a-1)$ turi dalintis iš $p$.\n",
    "Jei $m$ yra dalus iš 4, tada $(a-1)$ taip pat turi būti dalus iš 4.\n",
    "\n",
    "Modulių faktorizacija\n",
    "\n",
    "Modulis $776 = 8 \\times 97 = 2^3 \\times 97$\n",
    "\n",
    "Modulis $1107 = 3 \\times 369 = 3^3 \\times 41$\n"
   ]
  },
  {
   "cell_type": "code",
   "execution_count": null,
   "id": "6bdf2f45",
   "metadata": {},
   "outputs": [],
   "source": []
  }
 ],
 "metadata": {
  "kernelspec": {
   "display_name": "Python 3",
   "language": "python",
   "name": "python3"
  },
  "language_info": {
   "codemirror_mode": {
    "name": "ipython",
    "version": 3
   },
   "file_extension": ".py",
   "mimetype": "text/x-python",
   "name": "python",
   "nbconvert_exporter": "python",
   "pygments_lexer": "ipython3",
   "version": "3.11.5"
  }
 },
 "nbformat": 4,
 "nbformat_minor": 5
}
